{
  "metadata": {
    "kernelspec": {
      "name": "python",
      "display_name": "Python (Pyodide)",
      "language": "python"
    },
    "language_info": {
      "codemirror_mode": {
        "name": "python",
        "version": 3
      },
      "file_extension": ".py",
      "mimetype": "text/x-python",
      "name": "python",
      "nbconvert_exporter": "python",
      "pygments_lexer": "ipython3",
      "version": "3.8"
    }
  },
  "nbformat_minor": 4,
  "nbformat": 4,
  "cells": [
    {
      "cell_type": "markdown",
      "source": "# Chapter 1: Finding words, phrases, names and concepts\nThis chapter will introduce you to the basics of text processing with spaCy. You'll learn about the data structures, how to work with trained pipelines, and how to use them to predict linguistic features in your text.\n\nLet’s get started and try out spaCy! In this exercise, you’ll be able to try out some of the 60+ available languages.\n\nUse spacy.blank to create a blank English (\"en\") nlp object.\n\nCreate a doc and print its text.",
      "metadata": {}
    },
    {
      "cell_type": "code",
      "source": "# Import spaCy\nimport spacy\n\n# Create the English nlp object\nnlp = spacy.blank(\"en\")\n\n# Process a text\ndoc = nlp(\"This is a sentence.\")\n\n# Print the document text\nprint(doc.text)",
      "metadata": {},
      "execution_count": null,
      "outputs": []
    },
    {
      "cell_type": "markdown",
      "source": "# When you call nlp on a string, spaCy first tokenizes the text and creates a document object. In this exercise, you’ll learn more about the Doc, as well as its views Token and Span.\n\n## Step 1\n\nUse spacy.blank to create the English nlp object.\n\nProcess the text and instantiate a Doc object in the variable doc.\n\nSelect the first token of the Doc and print its text.",
      "metadata": {
        "tags": []
      }
    },
    {
      "cell_type": "code",
      "source": "# Import spaCy and create the English nlp object\nimport spacy\n\nnlp = spacy.blank(\"en\")\n\n# Process the text\ndoc = nlp(\"I like tree kangaroos and narwhals.\")\n\n# Select the first token\nfirst_token = doc[0]\n\n# Print the first token's text\nprint(first_token.text)",
      "metadata": {
        "tags": []
      },
      "execution_count": null,
      "outputs": []
    },
    {
      "cell_type": "markdown",
      "source": "## Step 2\n\nUse spacy.blank to create the English nlp object.\n\nProcess the text and instantiate a Doc object in the variable doc.\n\nCreate a slice of the Doc for the tokens “tree kangaroos” and “tree kangaroos and narwhals”.",
      "metadata": {}
    },
    {
      "cell_type": "code",
      "source": "# Import spaCy and create the English nlp object\nimport spacy\n\nnlp = spacy.blank(\"en\")\n\n# Process the text\ndoc = nlp(\"I like tree kangaroos and narwhals.\")\n\n# A slice of the Doc for \"tree kangaroos\"\ntree_kangaroos = doc[2:4]\nprint(tree_kangaroos.text)\n\n# A slice of the Doc for \"tree kangaroos and narwhals\" (without the \".\")\ntree_kangaroos_and_narwhals = doc[2:6]\nprint(tree_kangaroos_and_narwhals.text)",
      "metadata": {},
      "execution_count": null,
      "outputs": []
    },
    {
      "cell_type": "markdown",
      "source": "## In this example, you’ll use spaCy’s Doc and Token objects, and lexical attributes to find percentages in a text. You’ll be looking for two subsequent tokens: a number and a percent sign.\n\nUse the like_num token attribute to check whether a token in the doc resembles a number.\n\nGet the token following the current token in the document. The index of the next token in the doc is token.i + 1.\n\nCheck whether the next token’s text attribute is a percent sign ”%“.",
      "metadata": {}
    },
    {
      "cell_type": "code",
      "source": "import spacy\n\nnlp = spacy.blank(\"en\")\n\n# Process the text\ndoc = nlp(\n    \"In 1990, more than 60% of people in East Asia were in extreme poverty. \"\n    \"Now less than 4% are.\"\n)\n\n# Iterate over the tokens in the doc\nfor token in doc:\n    # Check if the token resembles a number\n    if token.like_num:\n        # Get the next token in the document\n        next_token = doc[token.i + 1]\n        # Check if the next token's text equals \"%\"\n        if next_token.text == \"%\":\n            print(\"Percentage found:\", token.text)",
      "metadata": {},
      "execution_count": null,
      "outputs": []
    },
    {
      "cell_type": "markdown",
      "source": "# The pipelines we’re using in this course are already pre-installed. For more details on spaCy’s trained pipelines and how to install them on your machine, see the documentation.\n\nUse spacy.load to load the small English pipeline \"en_core_web_sm\".\n\nProcess the text and print the document text.",
      "metadata": {}
    },
    {
      "cell_type": "code",
      "source": "import spacy\n\n# Load the \"en_core_web_sm\" pipeline\nnlp = spacy.load(\"en_core_web_sm\")\n\ntext = \"It’s official: Apple is the first U.S. public company to reach a $1 trillion market value\"\n\n# Process the text\ndoc = nlp(text)\n\n# Print the document text\nprint(doc.text)",
      "metadata": {},
      "execution_count": null,
      "outputs": []
    },
    {
      "cell_type": "markdown",
      "source": "## You’ll now get to try one of spaCy’s trained pipeline packages and see its predictions in action. Feel free to try it out on your own text! To find out what a tag or label means, you can call spacy.explain in the loop. For example: spacy.explain(\"PROPN\") or spacy.explain(\"GPE\").\n\n## Part 1\n\nProcess the text with the nlp object and create a doc.\n\nFor each token, print the token text, the token’s .pos_ (part-of-speech tag) and the token’s .dep_ (dependency label).",
      "metadata": {}
    },
    {
      "cell_type": "code",
      "source": "import spacy\n\nnlp = spacy.load(\"en_core_web_sm\")\n\ntext = \"It’s official: Apple is the first U.S. public company to reach a $1 trillion market value\"\n\n# Process the text\ndoc = nlp(text)\n\nfor token in doc:\n    # Get the token text, part-of-speech tag and dependency label\n    token_text = token.text\n    token_pos = token.pos_\n    token_dep = token.dep_\n    # This is for formatting only\n    print(f\"{token_text:<12}{token_pos:<10}{token_dep:<10}\")",
      "metadata": {},
      "execution_count": null,
      "outputs": []
    },
    {
      "cell_type": "markdown",
      "source": "## Part 2\n\nProcess the text and create a doc object.\n\nIterate over the doc.ents and print the entity text and label_ attribute.",
      "metadata": {}
    },
    {
      "cell_type": "code",
      "source": "import spacy\n\nnlp = spacy.load(\"en_core_web_sm\")\n\ntext = \"It’s official: Apple is the first U.S. public company to reach a $1 trillion market value\"\n\n# Process the text\ndoc = nlp(text)\n\n# Iterate over the predicted entities\nfor ent in doc.ents:\n    # Print the entity text and its label\n    print(ent.text, ent.label_)",
      "metadata": {
        "trusted": true
      },
      "execution_count": null,
      "outputs": []
    },
    {
      "cell_type": "markdown",
      "source": "# Models are statistical and not always right. Whether their predictions are correct depends on the training data and the text you’re processing. Let’s take a look at an example.\n\nProcess the text with the nlp object.\n\nIterate over the entities and print the entity text and label.\n\nLooks like the model didn’t predict “iPhone X”. Create a span for those tokens manually.",
      "metadata": {}
    },
    {
      "cell_type": "code",
      "source": "import spacy\n\nnlp = spacy.load(\"en_core_web_sm\")\n\ntext = \"Upcoming iPhone X release date leaked as Apple reveals pre-orders\"\n\n# Process the text\ndoc = nlp(text)\n\n# Iterate over the entities\nfor ent in doc.ents:\n    # Print the entity text and label\n    print(ent.text, ent.label_)\n\n# Get the span for \"iPhone X\"\niphone_x = doc[1:3]\n\n# Print the span text\nprint(\"Missing entity:\", iphone_x.text)",
      "metadata": {},
      "execution_count": null,
      "outputs": []
    },
    {
      "cell_type": "markdown",
      "source": "# Let’s try spaCy’s rule-based Matcher. You’ll be using the example from the previous exercise and write a pattern that can match the phrase “iPhone X” in the text.\n\nImport the Matcher from spacy.matcher.\n\nInitialize it with the nlp object’s shared vocab.\n\nCreate a pattern that matches the \"TEXT\" values of two tokens: \"iPhone\" and \"X\".\n\nUse the matcher.add method to add the pattern to the matcher.\n\nCall the matcher on the doc and store the result in the variable matches.\n\nIterate over the matches and get the matched span from the start to the end index.",
      "metadata": {}
    },
    {
      "cell_type": "code",
      "source": "import spacy\n\n# Import the Matcher\nfrom spacy.matcher import Matcher\n\nnlp = spacy.load(\"en_core_web_sm\")\ndoc = nlp(\"Upcoming iPhone X release date leaked as Apple reveals pre-orders\")\n\n# Initialize the Matcher with the shared vocabulary\nmatcher = Matcher(nlp.vocab)\n\n# Create a pattern matching two tokens: \"iPhone\" and \"X\"\npattern = [{\"TEXT\": \"iPhone\"}, {\"TEXT\": \"X\"}]\n\n# Add the pattern to the matcher\nmatcher.add(\"IPHONE_X_PATTERN\", [pattern])\n\n# Use the matcher on the doc\nmatches = matcher(doc)\nprint(\"Matches:\", [doc[start:end].text for match_id, start, end in matches]",
      "metadata": {
        "trusted": true
      },
      "execution_count": null,
      "outputs": []
    },
    {
      "cell_type": "markdown",
      "source": "## In this exercise, you’ll practice writing more complex match patterns using different token attributes and operators.\n\n## Part 1\n\nWrite one pattern that only matches mentions of the full iOS versions: “iOS 7”, “iOS 11” and “iOS 10”.",
      "metadata": {}
    },
    {
      "cell_type": "code",
      "source": "import spacy\nfrom spacy.matcher import Matcher\n\nnlp = spacy.load(\"en_core_web_sm\")\nmatcher = Matcher(nlp.vocab)\n\ndoc = nlp(\n    \"After making the iOS update you won't notice a radical system-wide \"\n    \"redesign: nothing like the aesthetic upheaval we got with iOS 7. Most of \"\n    \"iOS 11's furniture remains the same as in iOS 10. But you will discover \"\n    \"some tweaks once you delve a little deeper.\"\n)\n\n# Write a pattern for full iOS versions (\"iOS 7\", \"iOS 11\", \"iOS 10\")\npattern = [{\"TEXT\": \"iOS\"}, {\"IS_DIGIT\": True}]\n\n# Add the pattern to the matcher and apply the matcher to the doc\nmatcher.add(\"IOS_VERSION_PATTERN\", [pattern])\nmatches = matcher(doc)\nprint(\"Total matches found:\", len(matches))\n\n# Iterate over the matches and print the span text\nfor match_id, start, end in matches:\n    print(\"Match found:\", doc[start:end].text)",
      "metadata": {},
      "execution_count": null,
      "outputs": []
    },
    {
      "cell_type": "markdown",
      "source": "## Part 2\n\nWrite one pattern that only matches forms of “download” (tokens with the lemma “download”), followed by a token with the part-of-speech tag \"PROPN\" (proper noun).",
      "metadata": {}
    },
    {
      "cell_type": "code",
      "source": "import spacy\nfrom spacy.matcher import Matcher\n\nnlp = spacy.load(\"en_core_web_sm\")\nmatcher = Matcher(nlp.vocab)\n\ndoc = nlp(\n    \"i downloaded Fortnite on my laptop and can't open the game at all. Help? \"\n    \"so when I was downloading Minecraft, I got the Windows version where it \"\n    \"is the '.zip' folder and I used the default program to unpack it... do \"\n    \"I also need to download Winzip?\"\n)\n\n# Write a pattern that matches a form of \"download\" plus proper noun\npattern = [{\"LEMMA\": \"download\"}, {\"POS\": \"PROPN\"}]\n\n# Add the pattern to the matcher and apply the matcher to the doc\nmatcher.add(\"DOWNLOAD_THINGS_PATTERN\", [pattern])\nmatches = matcher(doc)\nprint(\"Total matches found:\", len(matches))\n\n# Iterate over the matches and print the span text\nfor match_id, start, end in matches:\n    print(\"Match found:\", doc[start:end].text)",
      "metadata": {},
      "execution_count": null,
      "outputs": []
    },
    {
      "cell_type": "markdown",
      "source": "## Part 3\n\nWrite one pattern that matches adjectives (\"ADJ\") followed by one or two \"NOUN\"s (one noun and one optional noun).",
      "metadata": {}
    },
    {
      "cell_type": "code",
      "source": "import spacy\nfrom spacy.matcher import Matcher\n\nnlp = spacy.load(\"en_core_web_sm\")\nmatcher = Matcher(nlp.vocab)\n\ndoc = nlp(\n    \"Features of the app include a beautiful design, smart search, automatic \"\n    \"labels and optional voice responses.\"\n)\n\n# Write a pattern for adjective plus one or two nouns\npattern = [{\"POS\": \"ADJ\"}, {\"POS\": \"NOUN\"}, {\"POS\": \"NOUN\", \"OP\": \"?\"}]\n\n# Add the pattern to the matcher and apply the matcher to the doc\nmatcher.add(\"ADJ_NOUN_PATTERN\", [pattern])\nmatches = matcher(doc)\nprint(\"Total matches found:\", len(matches))\n\n# Iterate over the matches and print the span text\nfor match_id, start, end in matches:\n    print(\"Match found:\", doc[start:end].text)",
      "metadata": {},
      "execution_count": null,
      "outputs": []
    }
  ]
}